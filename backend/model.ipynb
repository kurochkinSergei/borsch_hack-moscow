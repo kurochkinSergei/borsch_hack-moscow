{
 "cells": [
  {
   "cell_type": "code",
   "execution_count": 2,
   "metadata": {
    "ExecuteTime": {
     "end_time": "2019-10-26T12:25:04.838102Z",
     "start_time": "2019-10-26T12:25:03.860098Z"
    },
    "collapsed": true
   },
   "outputs": [],
   "source": [
    "%matplotlib inline\n",
    "\n",
    "import pandas as pd; pd.set_option('display.max_columns', None)\n",
    "import numpy as np\n",
    "\n",
    "import os\n",
    "\n",
    "import matplotlib.pyplot as plt\n",
    "from pylab import rcParams; rcParams['font.family'] = ['DejaVu Sans']\n",
    "import seaborn as sns\n",
    "\n",
    "from tqdm import tqdm_notebook as tqdm\n",
    "\n",
    "import configparser\n",
    "conf = configparser.RawConfigParser(); conf.read(os.path.join(os.path.expanduser('~'), 'conf.conf'))\n",
    "\n",
    "import requests\n",
    "from requests.auth import HTTPProxyAuth\n",
    "\n",
    "import jmespath\n",
    "import json"
   ]
  },
  {
   "cell_type": "code",
   "execution_count": 3,
   "metadata": {
    "ExecuteTime": {
     "end_time": "2019-10-26T12:25:35.656420Z",
     "start_time": "2019-10-26T12:25:04.840193Z"
    }
   },
   "outputs": [
    {
     "name": "stdout",
     "output_type": "stream",
     "text": [
      "(203694, 8)\n"
     ]
    },
    {
     "data": {
      "text/html": [
       "<div>\n",
       "<style scoped>\n",
       "    .dataframe tbody tr th:only-of-type {\n",
       "        vertical-align: middle;\n",
       "    }\n",
       "\n",
       "    .dataframe tbody tr th {\n",
       "        vertical-align: top;\n",
       "    }\n",
       "\n",
       "    .dataframe thead th {\n",
       "        text-align: right;\n",
       "    }\n",
       "</style>\n",
       "<table border=\"1\" class=\"dataframe\">\n",
       "  <thead>\n",
       "    <tr style=\"text-align: right;\">\n",
       "      <th></th>\n",
       "      <th>bonds</th>\n",
       "      <th>incomes</th>\n",
       "      <th>main</th>\n",
       "      <th>real_estates</th>\n",
       "      <th>savings</th>\n",
       "      <th>spendings</th>\n",
       "      <th>stocks</th>\n",
       "      <th>vehicles</th>\n",
       "    </tr>\n",
       "  </thead>\n",
       "  <tbody>\n",
       "    <tr>\n",
       "      <th>0</th>\n",
       "      <td>[]</td>\n",
       "      <td>[{'size': 2126487.0, 'relative': None, 'commen...</td>\n",
       "      <td>{'person': {'id': 8, 'name': 'Зюганов Геннадий...</td>\n",
       "      <td>[{'name': '', 'square': 167.4, 'country': 'Рос...</td>\n",
       "      <td>[2 652 390,0 руб. (ВТБ 24 (ЗАО)), 474 061,0 ру...</td>\n",
       "      <td>[]</td>\n",
       "      <td>[]</td>\n",
       "      <td>[]</td>\n",
       "    </tr>\n",
       "  </tbody>\n",
       "</table>\n",
       "</div>"
      ],
      "text/plain": [
       "  bonds                                            incomes  \\\n",
       "0    []  [{'size': 2126487.0, 'relative': None, 'commen...   \n",
       "\n",
       "                                                main  \\\n",
       "0  {'person': {'id': 8, 'name': 'Зюганов Геннадий...   \n",
       "\n",
       "                                        real_estates  \\\n",
       "0  [{'name': '', 'square': 167.4, 'country': 'Рос...   \n",
       "\n",
       "                                             savings spendings stocks vehicles  \n",
       "0  [2 652 390,0 руб. (ВТБ 24 (ЗАО)), 474 061,0 ру...        []     []       []  "
      ]
     },
     "execution_count": 3,
     "metadata": {},
     "output_type": "execute_result"
    }
   ],
   "source": [
    "df = pd.read_json('./declarations.json')\n",
    "print(df.shape)\n",
    "df.head(1)"
   ]
  },
  {
   "cell_type": "code",
   "execution_count": 4,
   "metadata": {
    "ExecuteTime": {
     "end_time": "2019-10-26T12:25:35.663710Z",
     "start_time": "2019-10-26T12:25:35.658274Z"
    },
    "collapsed": true
   },
   "outputs": [],
   "source": [
    "def flatten(d, parent_key='', sep='_'):\n",
    "    import collections\n",
    "    \n",
    "    items = []\n",
    "    for k, v in d.items():\n",
    "        if v is not None:\n",
    "            new_key = parent_key + sep + k if parent_key else k\n",
    "            if isinstance(v, collections.MutableMapping):\n",
    "                items.extend(flatten(v, new_key, sep=sep).items())\n",
    "            elif isinstance(v, list):\n",
    "                items.append((new_key, v[0] if isinstance(v[0], dict) else '|'.join(sorted(v))))\n",
    "            else:\n",
    "                items.append((new_key, v))\n",
    "    return dict(items)"
   ]
  },
  {
   "cell_type": "markdown",
   "metadata": {},
   "source": [
    "## Обрабатываем доходы"
   ]
  },
  {
   "cell_type": "code",
   "execution_count": 5,
   "metadata": {
    "ExecuteTime": {
     "end_time": "2019-10-26T12:25:35.696171Z",
     "start_time": "2019-10-26T12:25:35.665332Z"
    },
    "collapsed": true
   },
   "outputs": [],
   "source": [
    "def relative_grouper(x):\n",
    "    relative_grouper = {\n",
    "        'None': 'Доход',\n",
    "        2: 'Супруг(а)',\n",
    "        3: 'Ребенок',\n",
    "        4: 'Ребенок',\n",
    "        5: 'Иное',\n",
    "        6: 'Ребенок',\n",
    "    }\n",
    "    \n",
    "    idx = 'None' if x.get('relative') is None else x.get('relative', {}).get('id')\n",
    "    \n",
    "    return relative_grouper.get(idx, )\n",
    "\n",
    "\n",
    "def preproc_income(income_list):\n",
    "    from itertools import groupby\n",
    "    income_dict = {}\n",
    "    for k, v in groupby(income_list, key=relative_grouper):\n",
    "        income_dict[f'{k}'] = 0\n",
    "        income_dict[f'{k}_cmnt'] = []\n",
    "        income_dict[f'{k}_cnt'] = 0\n",
    "        for d in v:\n",
    "            income_dict[f'{k}'] += d['size'] / 12\n",
    "            income_dict[f'{k}_cmnt'].append(d['comment'])\n",
    "            income_dict[f'{k}_cnt'] += 1\n",
    "        income_dict[f'{k}_cmnt'] = ' '.join(income_dict[f'{k}_cmnt']).strip()\n",
    "    return income_dict"
   ]
  },
  {
   "cell_type": "markdown",
   "metadata": {},
   "source": [
    "# Собираем датасет"
   ]
  },
  {
   "cell_type": "code",
   "execution_count": 6,
   "metadata": {
    "ExecuteTime": {
     "end_time": "2019-10-26T12:27:22.509833Z",
     "start_time": "2019-10-26T12:25:35.697750Z"
    }
   },
   "outputs": [
    {
     "data": {
      "application/vnd.jupyter.widget-view+json": {
       "model_id": "9edc3677331747eb9391d6406c334208",
       "version_major": 2,
       "version_minor": 0
      },
      "text/plain": [
       "HBox(children=(IntProgress(value=1, bar_style='info', max=1), HTML(value='')))"
      ]
     },
     "metadata": {},
     "output_type": "display_data"
    },
    {
     "name": "stdout",
     "output_type": "stream",
     "text": [
      "\n"
     ]
    }
   ],
   "source": [
    "import collections \n",
    "    \n",
    "data_list = []\n",
    "\n",
    "for idx, row in tqdm(df.iloc[:].iterrows()):\n",
    "    \n",
    "    object_dict_list = []\n",
    "    \n",
    "    ####### incomes\n",
    "    object_dict_list.append(preproc_income(row['incomes']))\n",
    "    \n",
    "    ####### main\n",
    "    main = flatten(row['main'])\n",
    "    object_dict_list.append(main)\n",
    "    \n",
    "    ###### real_estates\n",
    "    object_dict_list.append({'real_estates': row['real_estates']})\n",
    "    \n",
    "    ###### vehicles\n",
    "    ####### incomes\n",
    "    object_dict_list.append({'vehicles': row['vehicles']})\n",
    "        \n",
    "    result = dict(collections.ChainMap(*[{} if dct is None else dct for dct in object_dict_list]))\n",
    "    \n",
    "    data_list.append(result)"
   ]
  },
  {
   "cell_type": "code",
   "execution_count": 7,
   "metadata": {
    "ExecuteTime": {
     "end_time": "2019-10-26T12:27:27.795853Z",
     "start_time": "2019-10-26T12:27:22.511797Z"
    }
   },
   "outputs": [
    {
     "name": "stdout",
     "output_type": "stream",
     "text": [
      "(203694, 32)\n",
      "(203341, 32)\n"
     ]
    },
    {
     "data": {
      "text/html": [
       "<div>\n",
       "<style scoped>\n",
       "    .dataframe tbody tr th:only-of-type {\n",
       "        vertical-align: middle;\n",
       "    }\n",
       "\n",
       "    .dataframe tbody tr th {\n",
       "        vertical-align: top;\n",
       "    }\n",
       "\n",
       "    .dataframe thead th {\n",
       "        text-align: right;\n",
       "    }\n",
       "</style>\n",
       "<table border=\"1\" class=\"dataframe\">\n",
       "  <thead>\n",
       "    <tr style=\"text-align: right;\">\n",
       "      <th></th>\n",
       "      <th>document_type_id</th>\n",
       "      <th>document_type_name</th>\n",
       "      <th>office_id</th>\n",
       "      <th>office_name</th>\n",
       "      <th>office_region_id</th>\n",
       "      <th>office_region_name</th>\n",
       "      <th>office_type_id</th>\n",
       "      <th>office_type_name</th>\n",
       "      <th>office_url</th>\n",
       "      <th>party_id</th>\n",
       "      <th>party_name</th>\n",
       "      <th>person_family_name</th>\n",
       "      <th>person_gender</th>\n",
       "      <th>person_given_name</th>\n",
       "      <th>person_id</th>\n",
       "      <th>person_name</th>\n",
       "      <th>person_patronymic_name</th>\n",
       "      <th>real_estates</th>\n",
       "      <th>vehicles</th>\n",
       "      <th>year</th>\n",
       "      <th>Доход</th>\n",
       "      <th>Доход_cmnt</th>\n",
       "      <th>Доход_cnt</th>\n",
       "      <th>Иное</th>\n",
       "      <th>Иное_cmnt</th>\n",
       "      <th>Иное_cnt</th>\n",
       "      <th>Ребенок</th>\n",
       "      <th>Ребенок_cmnt</th>\n",
       "      <th>Ребенок_cnt</th>\n",
       "      <th>Супруг(а)</th>\n",
       "      <th>Супруг(а)_cmnt</th>\n",
       "      <th>Супруг(а)_cnt</th>\n",
       "    </tr>\n",
       "  </thead>\n",
       "  <tbody>\n",
       "    <tr>\n",
       "      <th>0</th>\n",
       "      <td>2</td>\n",
       "      <td>Предвыборная декларация</td>\n",
       "      <td>14</td>\n",
       "      <td>Государственная Дума</td>\n",
       "      <td>NaN</td>\n",
       "      <td>NaN</td>\n",
       "      <td>7</td>\n",
       "      <td>Федеральный, без региональной структуры</td>\n",
       "      <td>http://www.duma.gov.ru/</td>\n",
       "      <td>6.0</td>\n",
       "      <td>КПРФ</td>\n",
       "      <td>Зюганов</td>\n",
       "      <td>M</td>\n",
       "      <td>Геннадий</td>\n",
       "      <td>8</td>\n",
       "      <td>Зюганов Геннадий Андреевич</td>\n",
       "      <td>Андреевич</td>\n",
       "      <td>[{'name': '', 'square': 167.4, 'country': 'Рос...</td>\n",
       "      <td>[]</td>\n",
       "      <td>2010</td>\n",
       "      <td>177207.25</td>\n",
       "      <td>пенсия,  Аппарат Государственной Думы Федераль...</td>\n",
       "      <td>1.0</td>\n",
       "      <td>NaN</td>\n",
       "      <td>NaN</td>\n",
       "      <td>NaN</td>\n",
       "      <td>NaN</td>\n",
       "      <td>NaN</td>\n",
       "      <td>NaN</td>\n",
       "      <td>NaN</td>\n",
       "      <td>NaN</td>\n",
       "      <td>NaN</td>\n",
       "    </tr>\n",
       "  </tbody>\n",
       "</table>\n",
       "</div>"
      ],
      "text/plain": [
       "   document_type_id       document_type_name  office_id           office_name  \\\n",
       "0                 2  Предвыборная декларация         14  Государственная Дума   \n",
       "\n",
       "   office_region_id office_region_name  office_type_id  \\\n",
       "0               NaN                NaN               7   \n",
       "\n",
       "                          office_type_name               office_url  party_id  \\\n",
       "0  Федеральный, без региональной структуры  http://www.duma.gov.ru/       6.0   \n",
       "\n",
       "  party_name person_family_name person_gender person_given_name  person_id  \\\n",
       "0       КПРФ            Зюганов             M          Геннадий          8   \n",
       "\n",
       "                  person_name person_patronymic_name  \\\n",
       "0  Зюганов Геннадий Андреевич              Андреевич   \n",
       "\n",
       "                                        real_estates vehicles  year  \\\n",
       "0  [{'name': '', 'square': 167.4, 'country': 'Рос...       []  2010   \n",
       "\n",
       "       Доход                                         Доход_cmnt  Доход_cnt  \\\n",
       "0  177207.25  пенсия,  Аппарат Государственной Думы Федераль...        1.0   \n",
       "\n",
       "   Иное Иное_cmnt  Иное_cnt  Ребенок Ребенок_cmnt  Ребенок_cnt  Супруг(а)  \\\n",
       "0   NaN       NaN       NaN      NaN          NaN          NaN        NaN   \n",
       "\n",
       "  Супруг(а)_cmnt  Супруг(а)_cnt  \n",
       "0            NaN            NaN  "
      ]
     },
     "execution_count": 7,
     "metadata": {},
     "output_type": "execute_result"
    }
   ],
   "source": [
    "p_df = pd.DataFrame(data_list)\n",
    "print(p_df.shape)\n",
    "# Удалим дубликаты по ключу 'office_id', 'person_id', 'year'\n",
    "p_df = p_df\\\n",
    "    .drop_duplicates(subset=['office_id', 'person_id', 'year'])\\\n",
    "    .reset_index(drop=True)\n",
    "print(p_df.shape)\n",
    "p_df.head(1)"
   ]
  },
  {
   "cell_type": "code",
   "execution_count": 8,
   "metadata": {
    "ExecuteTime": {
     "end_time": "2019-10-26T12:27:28.250974Z",
     "start_time": "2019-10-26T12:27:27.798321Z"
    },
    "collapsed": true
   },
   "outputs": [],
   "source": [
    "p_df.loc[:, 'real_estates_cnt'] = p_df['real_estates'].str.len()\n",
    "p_df.loc[:, 'vehicles_cnt'] = p_df['vehicles'].str.len()"
   ]
  },
  {
   "cell_type": "markdown",
   "metadata": {},
   "source": [
    "# Модель"
   ]
  },
  {
   "cell_type": "code",
   "execution_count": 28,
   "metadata": {
    "ExecuteTime": {
     "end_time": "2019-10-26T13:23:11.538748Z",
     "start_time": "2019-10-26T13:23:10.105901Z"
    }
   },
   "outputs": [
    {
     "name": "stdout",
     "output_type": "stream",
     "text": [
      "Размер датасета: (202629, 17)\n",
      "Размер датасета: (182365, 17)\n",
      "Размер трейна: (179229, 15)\n",
      "Размер теста: (3136, 15)\n"
     ]
    },
    {
     "data": {
      "text/html": [
       "<div>\n",
       "<style scoped>\n",
       "    .dataframe tbody tr th:only-of-type {\n",
       "        vertical-align: middle;\n",
       "    }\n",
       "\n",
       "    .dataframe tbody tr th {\n",
       "        vertical-align: top;\n",
       "    }\n",
       "\n",
       "    .dataframe thead th {\n",
       "        text-align: right;\n",
       "    }\n",
       "</style>\n",
       "<table border=\"1\" class=\"dataframe\">\n",
       "  <thead>\n",
       "    <tr style=\"text-align: right;\">\n",
       "      <th></th>\n",
       "      <th></th>\n",
       "      <th></th>\n",
       "      <th>document_type_name</th>\n",
       "      <th>office_name</th>\n",
       "      <th>office_region_name</th>\n",
       "      <th>office_type_name</th>\n",
       "      <th>party_name</th>\n",
       "      <th>person_family_name</th>\n",
       "      <th>person_gender</th>\n",
       "      <th>Иное</th>\n",
       "      <th>Иное_cnt</th>\n",
       "      <th>Ребенок</th>\n",
       "      <th>Ребенок_cnt</th>\n",
       "      <th>Супруг(а)</th>\n",
       "      <th>Супруг(а)_cnt</th>\n",
       "      <th>real_estates_cnt</th>\n",
       "      <th>vehicles_cnt</th>\n",
       "    </tr>\n",
       "    <tr>\n",
       "      <th>office_id</th>\n",
       "      <th>person_id</th>\n",
       "      <th>person_name</th>\n",
       "      <th></th>\n",
       "      <th></th>\n",
       "      <th></th>\n",
       "      <th></th>\n",
       "      <th></th>\n",
       "      <th></th>\n",
       "      <th></th>\n",
       "      <th></th>\n",
       "      <th></th>\n",
       "      <th></th>\n",
       "      <th></th>\n",
       "      <th></th>\n",
       "      <th></th>\n",
       "      <th></th>\n",
       "      <th></th>\n",
       "    </tr>\n",
       "  </thead>\n",
       "  <tbody>\n",
       "    <tr>\n",
       "      <th rowspan=\"2\" valign=\"top\">14</th>\n",
       "      <th>8</th>\n",
       "      <th>Зюганов Геннадий Андреевич</th>\n",
       "      <td>Предвыборная декларация</td>\n",
       "      <td>Государственная Дума</td>\n",
       "      <td>NaN</td>\n",
       "      <td>Федеральный, без региональной структуры</td>\n",
       "      <td>КПРФ</td>\n",
       "      <td>Зюганов</td>\n",
       "      <td>M</td>\n",
       "      <td>NaN</td>\n",
       "      <td>NaN</td>\n",
       "      <td>NaN</td>\n",
       "      <td>NaN</td>\n",
       "      <td>NaN</td>\n",
       "      <td>NaN</td>\n",
       "      <td>1</td>\n",
       "      <td>0</td>\n",
       "    </tr>\n",
       "    <tr>\n",
       "      <th>10</th>\n",
       "      <th>Андреев Андрей Анатольевич</th>\n",
       "      <td>Предвыборная декларация</td>\n",
       "      <td>Государственная Дума</td>\n",
       "      <td>NaN</td>\n",
       "      <td>Федеральный, без региональной структуры</td>\n",
       "      <td>КПРФ</td>\n",
       "      <td>Андреев</td>\n",
       "      <td>M</td>\n",
       "      <td>NaN</td>\n",
       "      <td>NaN</td>\n",
       "      <td>NaN</td>\n",
       "      <td>NaN</td>\n",
       "      <td>NaN</td>\n",
       "      <td>NaN</td>\n",
       "      <td>0</td>\n",
       "      <td>1</td>\n",
       "    </tr>\n",
       "  </tbody>\n",
       "</table>\n",
       "</div>"
      ],
      "text/plain": [
       "                                                     document_type_name  \\\n",
       "office_id person_id person_name                                           \n",
       "14        8         Зюганов Геннадий Андреевич  Предвыборная декларация   \n",
       "          10        Андреев Андрей Анатольевич  Предвыборная декларация   \n",
       "\n",
       "                                                         office_name  \\\n",
       "office_id person_id person_name                                        \n",
       "14        8         Зюганов Геннадий Андреевич  Государственная Дума   \n",
       "          10        Андреев Андрей Анатольевич  Государственная Дума   \n",
       "\n",
       "                                               office_region_name  \\\n",
       "office_id person_id person_name                                     \n",
       "14        8         Зюганов Геннадий Андреевич                NaN   \n",
       "          10        Андреев Андрей Анатольевич                NaN   \n",
       "\n",
       "                                                                       office_type_name  \\\n",
       "office_id person_id person_name                                                           \n",
       "14        8         Зюганов Геннадий Андреевич  Федеральный, без региональной структуры   \n",
       "          10        Андреев Андрей Анатольевич  Федеральный, без региональной структуры   \n",
       "\n",
       "                                               party_name person_family_name  \\\n",
       "office_id person_id person_name                                                \n",
       "14        8         Зюганов Геннадий Андреевич       КПРФ            Зюганов   \n",
       "          10        Андреев Андрей Анатольевич       КПРФ            Андреев   \n",
       "\n",
       "                                               person_gender  Иное  Иное_cnt  \\\n",
       "office_id person_id person_name                                                \n",
       "14        8         Зюганов Геннадий Андреевич             M   NaN       NaN   \n",
       "          10        Андреев Андрей Анатольевич             M   NaN       NaN   \n",
       "\n",
       "                                                Ребенок  Ребенок_cnt  \\\n",
       "office_id person_id person_name                                        \n",
       "14        8         Зюганов Геннадий Андреевич      NaN          NaN   \n",
       "          10        Андреев Андрей Анатольевич      NaN          NaN   \n",
       "\n",
       "                                                Супруг(а)  Супруг(а)_cnt  \\\n",
       "office_id person_id person_name                                            \n",
       "14        8         Зюганов Геннадий Андреевич        NaN            NaN   \n",
       "          10        Андреев Андрей Анатольевич        NaN            NaN   \n",
       "\n",
       "                                                real_estates_cnt  vehicles_cnt  \n",
       "office_id person_id person_name                                                 \n",
       "14        8         Зюганов Геннадий Андреевич                 1             0  \n",
       "          10        Андреев Андрей Анатольевич                 0             1  "
      ]
     },
     "execution_count": 28,
     "metadata": {},
     "output_type": "execute_result"
    }
   ],
   "source": [
    "columns_to_drop = [\n",
    "    'document_type_id', 'office_region_id', 'office_type_id', 'office_url', 'party_id',\n",
    "    'person_given_name', 'person_patronymic_name', 'real_estates', 'vehicles', \n",
    "    'Доход_cmnt', 'Доход_cnt',\n",
    "    'Иное_cmnt', 'Ребенок_cmnt', 'Супруг(а)_cmnt'\n",
    "]\n",
    "\n",
    "Xy = p_df\\\n",
    "    .set_index(['office_id', 'person_id', 'person_name'])\\\n",
    "    .drop(columns_to_drop, axis=1)\\\n",
    "    .dropna(subset=['Доход'])\n",
    "print(f'Размер датасета: {Xy.shape}')\n",
    "\n",
    "Xy = Xy[\n",
    "    (Xy['Доход'] < np.percentile(Xy['Доход'], 95))\n",
    "    & (Xy['Доход'] > np.percentile(Xy['Доход'], 5))  \n",
    "]\n",
    "print(f'Размер датасета: {Xy.shape}')\n",
    "\n",
    "X_tr = Xy[Xy['year']!=2018].drop(['year', 'Доход'], axis=1)\n",
    "y_tr = Xy[Xy['year']!=2018]['Доход']\n",
    "print(f'Размер трейна: {X_tr.shape}')\n",
    "\n",
    "X_val = Xy[Xy['year']==2018].drop(['year', 'Доход'], axis=1)\n",
    "y_val = Xy[Xy['year']==2018]['Доход']\n",
    "print(f'Размер теста: {X_val.shape}')\n",
    "\n",
    "X_tr.head(2)"
   ]
  },
  {
   "cell_type": "code",
   "execution_count": 29,
   "metadata": {
    "ExecuteTime": {
     "end_time": "2019-10-26T13:23:27.097983Z",
     "start_time": "2019-10-26T13:23:27.089016Z"
    },
    "collapsed": true
   },
   "outputs": [],
   "source": [
    "from sklearn.base import BaseEstimator, TransformerMixin\n",
    "from sklearn.pipeline import Pipeline\n",
    "from catboost import CatBoostRegressor\n",
    "\n",
    "\n",
    "class CatboostFillNACategory(BaseEstimator, TransformerMixin):\n",
    "\n",
    "    def __init__(self, cat_features, fill_value='NAN_category'):\n",
    "        self.cat_features=cat_features\n",
    "        self.fill_value=fill_value\n",
    "                \n",
    "    def fit(self, X, y=None):\n",
    "        return self\n",
    "\n",
    "    def transform(self, X, y=None):\n",
    "        res = X.copy()\n",
    "        res[self.cat_features] = res[self.cat_features].fillna(self.fill_value).astype(str)\n",
    "        return res\n",
    "\n",
    "cat_features_list = [\n",
    "    'document_type_name', 'office_name', 'office_region_name',\n",
    "    'office_type_name', 'party_name', 'person_family_name', \n",
    "    'person_gender',\n",
    "]\n",
    "\n",
    "cbfnac = CatboostFillNACategory(cat_features=cat_features_list)\n",
    "cb_classifier = CatBoostRegressor(\n",
    "    eval_metric='MAE', verbose=100, random_state=42,\n",
    "    task_type='GPU', devices='0',\n",
    "    grow_policy='SymmetricTree', #n_estimators=1200, depth=7\n",
    ")\n",
    "\n",
    "pipeline = Pipeline([(\"transformer\", cbfnac), (\"estimator\", cb_classifier)])"
   ]
  },
  {
   "cell_type": "code",
   "execution_count": 30,
   "metadata": {
    "ExecuteTime": {
     "end_time": "2019-10-26T13:23:51.820918Z",
     "start_time": "2019-10-26T13:23:29.110191Z"
    }
   },
   "outputs": [
    {
     "name": "stdout",
     "output_type": "stream",
     "text": [
      "0:\tlearn: 128258.8438255\ttotal: 25.7ms\tremaining: 25.6s\n",
      "100:\tlearn: 44707.7877799\ttotal: 1.93s\tremaining: 17.2s\n",
      "200:\tlearn: 44811.1653360\ttotal: 3.93s\tremaining: 15.6s\n",
      "300:\tlearn: 44402.7714265\ttotal: 5.87s\tremaining: 13.6s\n",
      "400:\tlearn: 44134.5062685\ttotal: 7.69s\tremaining: 11.5s\n",
      "500:\tlearn: 43946.1281824\ttotal: 9.65s\tremaining: 9.62s\n",
      "600:\tlearn: 43794.7926731\ttotal: 11.6s\tremaining: 7.67s\n",
      "700:\tlearn: 43670.0157229\ttotal: 13.5s\tremaining: 5.74s\n",
      "800:\tlearn: 43550.8035865\ttotal: 15.3s\tremaining: 3.79s\n",
      "900:\tlearn: 43449.4856971\ttotal: 17.1s\tremaining: 1.88s\n",
      "999:\tlearn: 43368.9073085\ttotal: 18.9s\tremaining: 0us\n"
     ]
    },
    {
     "data": {
      "text/plain": [
       "Pipeline(memory=None,\n",
       "     steps=[('transformer', CatboostFillNACategory(cat_features=['document_type_name', 'office_name', 'office_region_name', 'office_type_name', 'party_name', 'person_family_name', 'person_gender'],\n",
       "            fill_value='NAN_category')), ('estimator', <catboost.core.CatBoostRegressor object at 0x7f4df0f53898>)])"
      ]
     },
     "execution_count": 30,
     "metadata": {},
     "output_type": "execute_result"
    }
   ],
   "source": [
    "pipeline.fit(\n",
    "    X=X_tr, \n",
    "    y=y_tr, \n",
    "    estimator__cat_features=cat_features_list, \n",
    ")"
   ]
  },
  {
   "cell_type": "code",
   "execution_count": 56,
   "metadata": {
    "ExecuteTime": {
     "end_time": "2019-10-26T22:48:00.181880Z",
     "start_time": "2019-10-26T22:47:56.314469Z"
    }
   },
   "outputs": [
    {
     "name": "stderr",
     "output_type": "stream",
     "text": [
      "/opt/anaconda2/envs/py36/lib/python3.6/site-packages/ipykernel/ipkernel.py:196: PerformanceWarning: indexing past lexsort depth may impact performance.\n",
      "  res = shell.run_cell(code, store_history=store_history, silent=silent)\n"
     ]
    },
    {
     "data": {
      "text/html": [
       "<div>\n",
       "<style scoped>\n",
       "    .dataframe tbody tr th:only-of-type {\n",
       "        vertical-align: middle;\n",
       "    }\n",
       "\n",
       "    .dataframe tbody tr th {\n",
       "        vertical-align: top;\n",
       "    }\n",
       "\n",
       "    .dataframe thead th {\n",
       "        text-align: right;\n",
       "    }\n",
       "</style>\n",
       "<table border=\"1\" class=\"dataframe\">\n",
       "  <thead>\n",
       "    <tr style=\"text-align: right;\">\n",
       "      <th></th>\n",
       "      <th></th>\n",
       "      <th></th>\n",
       "      <th>Доход</th>\n",
       "      <th>Предсказание</th>\n",
       "    </tr>\n",
       "    <tr>\n",
       "      <th>office_id</th>\n",
       "      <th>person_id</th>\n",
       "      <th>person_name</th>\n",
       "      <th></th>\n",
       "      <th></th>\n",
       "    </tr>\n",
       "  </thead>\n",
       "  <tbody>\n",
       "    <tr>\n",
       "      <th>124</th>\n",
       "      <th>558</th>\n",
       "      <th>Евкуров Юнус-Бек Баматгиреевич</th>\n",
       "      <td>218450</td>\n",
       "      <td>231194</td>\n",
       "    </tr>\n",
       "    <tr>\n",
       "      <th>126</th>\n",
       "      <th>562</th>\n",
       "      <th>Темрезов Рашид Бориспиевич</th>\n",
       "      <td>128962</td>\n",
       "      <td>102746</td>\n",
       "    </tr>\n",
       "    <tr>\n",
       "      <th>123</th>\n",
       "      <th>203</th>\n",
       "      <th>Васильев Владимир Абдуалиевич</th>\n",
       "      <td>411846</td>\n",
       "      <td>237663</td>\n",
       "    </tr>\n",
       "    <tr>\n",
       "      <th>1397</th>\n",
       "      <th>21002</th>\n",
       "      <th>Кропоткин Андрей Михайлович</th>\n",
       "      <td>164985</td>\n",
       "      <td>120723</td>\n",
       "    </tr>\n",
       "    <tr>\n",
       "      <th>453</th>\n",
       "      <th>132632</th>\n",
       "      <th>Чеботарев Сергей Викторович</th>\n",
       "      <td>508807</td>\n",
       "      <td>319647</td>\n",
       "    </tr>\n",
       "  </tbody>\n",
       "</table>\n",
       "</div>"
      ],
      "text/plain": [
       "                                                     Доход  Предсказание\n",
       "office_id person_id person_name                                         \n",
       "124       558       Евкуров Юнус-Бек Баматгиреевич  218450        231194\n",
       "126       562       Темрезов Рашид Бориспиевич      128962        102746\n",
       "123       203       Васильев Владимир Абдуалиевич   411846        237663\n",
       "1397      21002     Кропоткин Андрей Михайлович     164985        120723\n",
       "453       132632    Чеботарев Сергей Викторович     508807        319647"
      ]
     },
     "execution_count": 56,
     "metadata": {},
     "output_type": "execute_result"
    }
   ],
   "source": [
    "scored = Xy[Xy['year']==2018][['Доход']]\n",
    "scored.loc[:, 'Доход'] = scored['Доход'].astype(int)\n",
    "scored.loc[:, 'Предсказание'] = pipeline.predict(X_val).astype(int)\n",
    "scored.head()"
   ]
  },
  {
   "cell_type": "code",
   "execution_count": 59,
   "metadata": {
    "ExecuteTime": {
     "end_time": "2019-10-26T22:50:42.313150Z",
     "start_time": "2019-10-26T22:50:33.165030Z"
    },
    "collapsed": true
   },
   "outputs": [],
   "source": [
    "import dill\n",
    "\n",
    "with open('./pipeline.dill', 'wb') as f:\n",
    "    dill.dump(pipeline, f)\n",
    "    \n",
    "with open('./scored.dill', 'wb') as f:\n",
    "    dill.dump(scored, f)"
   ]
  },
  {
   "cell_type": "code",
   "execution_count": 31,
   "metadata": {
    "ExecuteTime": {
     "end_time": "2019-10-26T13:23:59.326072Z",
     "start_time": "2019-10-26T13:23:59.171769Z"
    }
   },
   "outputs": [
    {
     "name": "stdout",
     "output_type": "stream",
     "text": [
      "64035.540176074326\n",
      "43555.334835103575\n"
     ]
    }
   ],
   "source": [
    "from sklearn.metrics import mean_absolute_error, median_absolute_error\n",
    "\n",
    "print(mean_absolute_error(y_val, pipeline.predict(X_val)))\n",
    "print(median_absolute_error(y_val, pipeline.predict(X_val)))"
   ]
  },
  {
   "cell_type": "code",
   "execution_count": 38,
   "metadata": {
    "ExecuteTime": {
     "end_time": "2019-10-26T13:28:59.022187Z",
     "start_time": "2019-10-26T13:28:59.016643Z"
    }
   },
   "outputs": [
    {
     "data": {
      "text/plain": [
       "199008.76988786156"
      ]
     },
     "execution_count": 38,
     "metadata": {},
     "output_type": "execute_result"
    }
   ],
   "source": [
    "y_val.mean()"
   ]
  },
  {
   "cell_type": "code",
   "execution_count": 39,
   "metadata": {
    "ExecuteTime": {
     "end_time": "2019-10-26T13:29:10.879631Z",
     "start_time": "2019-10-26T13:29:10.874068Z"
    }
   },
   "outputs": [
    {
     "data": {
      "text/plain": [
       "146690.25916666666"
      ]
     },
     "execution_count": 39,
     "metadata": {},
     "output_type": "execute_result"
    }
   ],
   "source": [
    "y_val.median()"
   ]
  },
  {
   "cell_type": "code",
   "execution_count": 37,
   "metadata": {
    "ExecuteTime": {
     "end_time": "2019-10-26T13:27:30.611091Z",
     "start_time": "2019-10-26T13:27:30.593573Z"
    }
   },
   "outputs": [
    {
     "data": {
      "text/html": [
       "<div>\n",
       "<style scoped>\n",
       "    .dataframe tbody tr th:only-of-type {\n",
       "        vertical-align: middle;\n",
       "    }\n",
       "\n",
       "    .dataframe tbody tr th {\n",
       "        vertical-align: top;\n",
       "    }\n",
       "\n",
       "    .dataframe thead th {\n",
       "        text-align: right;\n",
       "    }\n",
       "</style>\n",
       "<table border=\"1\" class=\"dataframe\">\n",
       "  <thead>\n",
       "    <tr style=\"text-align: right;\">\n",
       "      <th></th>\n",
       "      <th>features</th>\n",
       "      <th>fscore</th>\n",
       "    </tr>\n",
       "  </thead>\n",
       "  <tbody>\n",
       "    <tr>\n",
       "      <th>1</th>\n",
       "      <td>office_name</td>\n",
       "      <td>32.313349</td>\n",
       "    </tr>\n",
       "    <tr>\n",
       "      <th>2</th>\n",
       "      <td>office_region_name</td>\n",
       "      <td>15.612044</td>\n",
       "    </tr>\n",
       "    <tr>\n",
       "      <th>3</th>\n",
       "      <td>office_type_name</td>\n",
       "      <td>12.582778</td>\n",
       "    </tr>\n",
       "    <tr>\n",
       "      <th>13</th>\n",
       "      <td>real_estates_cnt</td>\n",
       "      <td>8.990276</td>\n",
       "    </tr>\n",
       "    <tr>\n",
       "      <th>4</th>\n",
       "      <td>party_name</td>\n",
       "      <td>7.516127</td>\n",
       "    </tr>\n",
       "    <tr>\n",
       "      <th>11</th>\n",
       "      <td>Супруг(а)</td>\n",
       "      <td>6.935550</td>\n",
       "    </tr>\n",
       "    <tr>\n",
       "      <th>6</th>\n",
       "      <td>person_gender</td>\n",
       "      <td>6.791058</td>\n",
       "    </tr>\n",
       "    <tr>\n",
       "      <th>5</th>\n",
       "      <td>person_family_name</td>\n",
       "      <td>3.781617</td>\n",
       "    </tr>\n",
       "    <tr>\n",
       "      <th>0</th>\n",
       "      <td>document_type_name</td>\n",
       "      <td>2.283226</td>\n",
       "    </tr>\n",
       "    <tr>\n",
       "      <th>14</th>\n",
       "      <td>vehicles_cnt</td>\n",
       "      <td>1.997325</td>\n",
       "    </tr>\n",
       "    <tr>\n",
       "      <th>9</th>\n",
       "      <td>Ребенок</td>\n",
       "      <td>0.698487</td>\n",
       "    </tr>\n",
       "    <tr>\n",
       "      <th>12</th>\n",
       "      <td>Супруг(а)_cnt</td>\n",
       "      <td>0.458599</td>\n",
       "    </tr>\n",
       "    <tr>\n",
       "      <th>10</th>\n",
       "      <td>Ребенок_cnt</td>\n",
       "      <td>0.039563</td>\n",
       "    </tr>\n",
       "    <tr>\n",
       "      <th>7</th>\n",
       "      <td>Иное</td>\n",
       "      <td>0.000000</td>\n",
       "    </tr>\n",
       "    <tr>\n",
       "      <th>8</th>\n",
       "      <td>Иное_cnt</td>\n",
       "      <td>0.000000</td>\n",
       "    </tr>\n",
       "  </tbody>\n",
       "</table>\n",
       "</div>"
      ],
      "text/plain": [
       "              features     fscore\n",
       "1          office_name  32.313349\n",
       "2   office_region_name  15.612044\n",
       "3     office_type_name  12.582778\n",
       "13    real_estates_cnt   8.990276\n",
       "4           party_name   7.516127\n",
       "11           Супруг(а)   6.935550\n",
       "6        person_gender   6.791058\n",
       "5   person_family_name   3.781617\n",
       "0   document_type_name   2.283226\n",
       "14        vehicles_cnt   1.997325\n",
       "9              Ребенок   0.698487\n",
       "12       Супруг(а)_cnt   0.458599\n",
       "10         Ребенок_cnt   0.039563\n",
       "7                 Иное   0.000000\n",
       "8             Иное_cnt   0.000000"
      ]
     },
     "execution_count": 37,
     "metadata": {},
     "output_type": "execute_result"
    }
   ],
   "source": [
    "importances = pd.DataFrame(data={\n",
    "    'features': cb_classifier.feature_names_,\n",
    "    'fscore': cb_classifier.feature_importances_\n",
    "}).sort_values('fscore', ascending=False)\n",
    "\n",
    "importances.head(20)"
   ]
  },
  {
   "cell_type": "code",
   "execution_count": 71,
   "metadata": {
    "ExecuteTime": {
     "end_time": "2019-10-27T03:53:08.303272Z",
     "start_time": "2019-10-27T03:53:07.792832Z"
    },
    "scrolled": false
   },
   "outputs": [
    {
     "name": "stderr",
     "output_type": "stream",
     "text": [
      "/home/mvshevc5/.local/lib/python3.6/site-packages/matplotlib/font_manager.py:1331: UserWarning: findfont: Font family ['sans-serif'] not found. Falling back to DejaVu Sans\n",
      "  (prop.get_family(), self.defaultFamily[fontext]))\n"
     ]
    },
    {
     "data": {
      "image/png": "[encoded data removed]",
      "text/plain": [
       "<Figure size 720x576 with 1 Axes>"
      ]
     },
     "metadata": {},
     "output_type": "display_data"
    },
    {
     "data": {
      "text/plain": [
       "1            office_name\n",
       "2     office_region_name\n",
       "3       office_type_name\n",
       "13      real_estates_cnt\n",
       "4             party_name\n",
       "11             Супруг(а)\n",
       "6          person_gender\n",
       "5     person_family_name\n",
       "0     document_type_name\n",
       "Name: features, dtype: object"
      ]
     },
     "execution_count": 71,
     "metadata": {},
     "output_type": "execute_result"
    }
   ],
   "source": [
    "import matplotlib.pyplot as plt\n",
    "from matplotlib import cm\n",
    "import matplotlib.image as image\n",
    "\n",
    "\n",
    "def plot_feature_importances(names, coefs, color=2, n=None):\n",
    "    importances = pd.DataFrame(\n",
    "        data={\n",
    "            'features': names,\n",
    "            'fscore': coefs\n",
    "        }\n",
    "    )\n",
    "\n",
    "    importances = importances[importances['fscore']!=0]\n",
    "    importances = importances.reindex(importances.fscore.abs().sort_values(ascending=True).index)\n",
    "\n",
    "    f_names = importances['features']\n",
    "    f_values = importances['fscore']\n",
    "\n",
    "    st_idx = 0; end_idx = len(f_names);\n",
    "\n",
    "    fig = plt.figure(figsize=(10, 8))\n",
    "    plt.barh(\n",
    "        np.arange(len(f_names)), f_values,\n",
    "        color=[cm.RdYlGn(i*color) for i in range(len(f_names))])\n",
    "    fig.axes[0].set_yticklabels(f_names[st_idx : end_idx])\n",
    "    fig.axes[0].set_yticks(np.arange(len(f_names[st_idx : end_idx])))\n",
    "    fig.axes[0].set_xlabel('Importance Values')\n",
    "    fig.axes[0].set_ylabel('Features')\n",
    "    fig.axes[0].set_title('Feature Importances')\n",
    "\n",
    "    plt.show()\n",
    "\n",
    "    if n is not None:\n",
    "        return f_names[:-n:-1]\n",
    "\n",
    "\n",
    "plot_feature_importances(X_tr.columns, cb_classifier.feature_importances_,  color=20, n=10)"
   ]
  }
 ],
 "metadata": {
  "kernelspec": {
   "display_name": "py36",
   "language": "python",
   "name": "py36"
  },
  "language_info": {
   "codemirror_mode": {
    "name": "ipython",
    "version": 3
   },
   "file_extension": ".py",
   "mimetype": "text/x-python",
   "name": "python",
   "nbconvert_exporter": "python",
   "pygments_lexer": "ipython3",
   "version": "3.6.1"
  }
 },
 "nbformat": 4,
 "nbformat_minor": 2
}
